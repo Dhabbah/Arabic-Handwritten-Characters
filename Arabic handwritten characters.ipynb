{
 "cells": [
  {
   "cell_type": "markdown",
   "metadata": {},
   "source": [
    "# 1- Introduction \n",
    "\n",
    "In this project, we will develop a classification model that predict and classify  Arabic handwritten characters. This dataset is about the Arabic characters, which is similar to the MNIST dataset[1]. Since this dataset has independent variables for a process that is being analyzed and dependent variables for the output, we will use supervised learning.\n",
    "\n",
    "Some common algorithms in this section: \n",
    "\n",
    "- Naive Bayes [2]\n",
    "- Support Vector Machines (SVM) [3]\n",
    "- Decision Tree [4]\n",
    "- Random Forest [5]\n",
    "- Convolutional Neural Network (CNN) in Neural Network [6]\n",
    "\n",
    "## 1-1 Data Set Information from our observation:\n",
    "\n",
    "The Arabic Handwritten Characters(AHC) dataset has the following features:\n",
    "\n",
    "- It has 28 classes (characters).\n",
    "- It has a total of 16800 samples.\n",
    "- It is divided into two portions; one is the training set, and the other one is the testing set. Thus, the training set has 13440 samples, while the testing set has 3360 samples.\n",
    "- Since it has 28 classes, each class in the training set has 480 samples, and each class in the testing set has 120 samples, which result in having no **bias**.\n",
    "- It does not have any missing values (null values), and it is ready for training.\n",
    "\n",
    "- Taken the CSV files into account: it has rows and columns. **As a result**, each row represents an individual grayscale image, and each column represents a pixel in an image.\n",
    "\n",
    "- Each pixel has a value from 0 to 255 where these values represent colors; for instance, the number 0 means black, and the number 255 represents white.\n",
    "\n"
   ]
  },
  {
   "cell_type": "markdown",
   "metadata": {},
   "source": [
    "# 2- Implementation\n",
    "\n",
    "## 2-1 Importing all packages"
   ]
  },
  {
   "cell_type": "code",
   "execution_count": 1,
   "metadata": {},
   "outputs": [
    {
     "name": "stderr",
     "output_type": "stream",
     "text": [
      "Using TensorFlow backend.\n"
     ]
    }
   ],
   "source": [
    "import pandas as pd # data processing for handeling cvs dataset\n",
    "import numpy as np # linear algebra for supporting pandas and calculations\n",
    "import keras # a helpful library that acts as an interface for the TensorFlow for predicting models\n",
    "from keras.utils.np_utils import to_categorical\n",
    "import matplotlib.pyplot as plt # a library to plot and visualize\n",
    "# import matplotlib as matplot # a library to plot and visualize\n",
    "import seaborn as sns # a library to plot and visualize informative statistical graphics\n",
    "import random\n",
    "from scipy.ndimage import rotate # for image processing\n",
    "# importing libraries for metrics\n",
    "from sklearn.metrics import confusion_matrix\n",
    "from sklearn.metrics import classification_report\n",
    "from sklearn.metrics import accuracy_score\n",
    "# importing the models\n",
    "from sklearn.naive_bayes import GaussianNB\n",
    "from sklearn.svm import SVC\n",
    "from sklearn.tree import DecisionTreeClassifier\n",
    "from sklearn.ensemble import RandomForestClassifier\n",
    "# importing libraries for layers and preprocessing the data\n",
    "from sklearn.model_selection import train_test_split\n",
    "from keras_preprocessing import sequence\n",
    "from keras.models import Sequential\n",
    "from keras.layers import Dense, Dropout, Flatten, Conv2D, MaxPool2D\n",
    "from keras.callbacks import EarlyStopping\n",
    "\n",
    "%matplotlib inline"
   ]
  },
  {
   "cell_type": "markdown",
   "metadata": {},
   "source": [
    "## 2-2 Loading the dataset\n"
   ]
  },
  {
   "cell_type": "code",
   "execution_count": 2,
   "metadata": {},
   "outputs": [],
   "source": [
    "# Load the dataset into dataframes\n",
    "csvTrainImages = pd.read_csv(\"dataset/Arabic Handwritten Characters Recognition/csvTrainImages 13440x1024.csv\" , header = None)\n",
    "csvTrainLabel = pd.read_csv(\"dataset/Arabic Handwritten Characters Recognition/csvTrainLabel 13440x1.csv\" , header = None)\n",
    "csvTestImages = pd.read_csv(\"dataset/Arabic Handwritten Characters Recognition/csvTestImages 3360x1024.csv\" , header = None)\n",
    "csvTestLabel = pd.read_csv(\"dataset/Arabic Handwritten Characters Recognition/csvTestLabel 3360x1.csv\" , header = None)"
   ]
  },
  {
   "cell_type": "code",
   "execution_count": 3,
   "metadata": {},
   "outputs": [
    {
     "data": {
      "text/html": [
       "<div>\n",
       "<style scoped>\n",
       "    .dataframe tbody tr th:only-of-type {\n",
       "        vertical-align: middle;\n",
       "    }\n",
       "\n",
       "    .dataframe tbody tr th {\n",
       "        vertical-align: top;\n",
       "    }\n",
       "\n",
       "    .dataframe thead th {\n",
       "        text-align: right;\n",
       "    }\n",
       "</style>\n",
       "<table border=\"1\" class=\"dataframe\">\n",
       "  <thead>\n",
       "    <tr style=\"text-align: right;\">\n",
       "      <th></th>\n",
       "      <th>0</th>\n",
       "      <th>1</th>\n",
       "      <th>2</th>\n",
       "      <th>3</th>\n",
       "      <th>4</th>\n",
       "      <th>5</th>\n",
       "      <th>6</th>\n",
       "      <th>7</th>\n",
       "      <th>8</th>\n",
       "      <th>9</th>\n",
       "      <th>...</th>\n",
       "      <th>1014</th>\n",
       "      <th>1015</th>\n",
       "      <th>1016</th>\n",
       "      <th>1017</th>\n",
       "      <th>1018</th>\n",
       "      <th>1019</th>\n",
       "      <th>1020</th>\n",
       "      <th>1021</th>\n",
       "      <th>1022</th>\n",
       "      <th>1023</th>\n",
       "    </tr>\n",
       "  </thead>\n",
       "  <tbody>\n",
       "    <tr>\n",
       "      <th>0</th>\n",
       "      <td>0</td>\n",
       "      <td>0</td>\n",
       "      <td>0</td>\n",
       "      <td>0</td>\n",
       "      <td>0</td>\n",
       "      <td>0</td>\n",
       "      <td>0</td>\n",
       "      <td>0</td>\n",
       "      <td>0</td>\n",
       "      <td>0</td>\n",
       "      <td>...</td>\n",
       "      <td>0</td>\n",
       "      <td>0</td>\n",
       "      <td>0</td>\n",
       "      <td>0</td>\n",
       "      <td>0</td>\n",
       "      <td>0</td>\n",
       "      <td>0</td>\n",
       "      <td>0</td>\n",
       "      <td>0</td>\n",
       "      <td>0</td>\n",
       "    </tr>\n",
       "    <tr>\n",
       "      <th>1</th>\n",
       "      <td>0</td>\n",
       "      <td>0</td>\n",
       "      <td>0</td>\n",
       "      <td>0</td>\n",
       "      <td>0</td>\n",
       "      <td>0</td>\n",
       "      <td>0</td>\n",
       "      <td>0</td>\n",
       "      <td>0</td>\n",
       "      <td>0</td>\n",
       "      <td>...</td>\n",
       "      <td>0</td>\n",
       "      <td>0</td>\n",
       "      <td>0</td>\n",
       "      <td>0</td>\n",
       "      <td>0</td>\n",
       "      <td>0</td>\n",
       "      <td>0</td>\n",
       "      <td>0</td>\n",
       "      <td>0</td>\n",
       "      <td>0</td>\n",
       "    </tr>\n",
       "    <tr>\n",
       "      <th>2</th>\n",
       "      <td>0</td>\n",
       "      <td>0</td>\n",
       "      <td>0</td>\n",
       "      <td>0</td>\n",
       "      <td>0</td>\n",
       "      <td>0</td>\n",
       "      <td>0</td>\n",
       "      <td>0</td>\n",
       "      <td>0</td>\n",
       "      <td>0</td>\n",
       "      <td>...</td>\n",
       "      <td>0</td>\n",
       "      <td>0</td>\n",
       "      <td>0</td>\n",
       "      <td>0</td>\n",
       "      <td>0</td>\n",
       "      <td>0</td>\n",
       "      <td>0</td>\n",
       "      <td>0</td>\n",
       "      <td>0</td>\n",
       "      <td>0</td>\n",
       "    </tr>\n",
       "    <tr>\n",
       "      <th>3</th>\n",
       "      <td>0</td>\n",
       "      <td>0</td>\n",
       "      <td>0</td>\n",
       "      <td>0</td>\n",
       "      <td>0</td>\n",
       "      <td>0</td>\n",
       "      <td>0</td>\n",
       "      <td>0</td>\n",
       "      <td>0</td>\n",
       "      <td>0</td>\n",
       "      <td>...</td>\n",
       "      <td>0</td>\n",
       "      <td>0</td>\n",
       "      <td>0</td>\n",
       "      <td>0</td>\n",
       "      <td>0</td>\n",
       "      <td>0</td>\n",
       "      <td>0</td>\n",
       "      <td>0</td>\n",
       "      <td>0</td>\n",
       "      <td>0</td>\n",
       "    </tr>\n",
       "    <tr>\n",
       "      <th>4</th>\n",
       "      <td>0</td>\n",
       "      <td>0</td>\n",
       "      <td>0</td>\n",
       "      <td>0</td>\n",
       "      <td>0</td>\n",
       "      <td>0</td>\n",
       "      <td>0</td>\n",
       "      <td>0</td>\n",
       "      <td>0</td>\n",
       "      <td>0</td>\n",
       "      <td>...</td>\n",
       "      <td>0</td>\n",
       "      <td>0</td>\n",
       "      <td>0</td>\n",
       "      <td>0</td>\n",
       "      <td>0</td>\n",
       "      <td>0</td>\n",
       "      <td>0</td>\n",
       "      <td>0</td>\n",
       "      <td>0</td>\n",
       "      <td>0</td>\n",
       "    </tr>\n",
       "  </tbody>\n",
       "</table>\n",
       "<p>5 rows × 1024 columns</p>\n",
       "</div>"
      ],
      "text/plain": [
       "   0     1     2     3     4     5     6     7     8     9     ...  1014  \\\n",
       "0     0     0     0     0     0     0     0     0     0     0  ...     0   \n",
       "1     0     0     0     0     0     0     0     0     0     0  ...     0   \n",
       "2     0     0     0     0     0     0     0     0     0     0  ...     0   \n",
       "3     0     0     0     0     0     0     0     0     0     0  ...     0   \n",
       "4     0     0     0     0     0     0     0     0     0     0  ...     0   \n",
       "\n",
       "   1015  1016  1017  1018  1019  1020  1021  1022  1023  \n",
       "0     0     0     0     0     0     0     0     0     0  \n",
       "1     0     0     0     0     0     0     0     0     0  \n",
       "2     0     0     0     0     0     0     0     0     0  \n",
       "3     0     0     0     0     0     0     0     0     0  \n",
       "4     0     0     0     0     0     0     0     0     0  \n",
       "\n",
       "[5 rows x 1024 columns]"
      ]
     },
     "execution_count": 3,
     "metadata": {},
     "output_type": "execute_result"
    }
   ],
   "source": [
    "# Print the first five information in traing set\n",
    "csvTrainImages.head()"
   ]
  },
  {
   "cell_type": "code",
   "execution_count": 4,
   "metadata": {},
   "outputs": [
    {
     "data": {
      "text/html": [
       "<div>\n",
       "<style scoped>\n",
       "    .dataframe tbody tr th:only-of-type {\n",
       "        vertical-align: middle;\n",
       "    }\n",
       "\n",
       "    .dataframe tbody tr th {\n",
       "        vertical-align: top;\n",
       "    }\n",
       "\n",
       "    .dataframe thead th {\n",
       "        text-align: right;\n",
       "    }\n",
       "</style>\n",
       "<table border=\"1\" class=\"dataframe\">\n",
       "  <thead>\n",
       "    <tr style=\"text-align: right;\">\n",
       "      <th></th>\n",
       "      <th>0</th>\n",
       "    </tr>\n",
       "  </thead>\n",
       "  <tbody>\n",
       "    <tr>\n",
       "      <th>0</th>\n",
       "      <td>1</td>\n",
       "    </tr>\n",
       "    <tr>\n",
       "      <th>1</th>\n",
       "      <td>1</td>\n",
       "    </tr>\n",
       "    <tr>\n",
       "      <th>2</th>\n",
       "      <td>1</td>\n",
       "    </tr>\n",
       "    <tr>\n",
       "      <th>3</th>\n",
       "      <td>1</td>\n",
       "    </tr>\n",
       "    <tr>\n",
       "      <th>4</th>\n",
       "      <td>1</td>\n",
       "    </tr>\n",
       "    <tr>\n",
       "      <th>...</th>\n",
       "      <td>...</td>\n",
       "    </tr>\n",
       "    <tr>\n",
       "      <th>13435</th>\n",
       "      <td>28</td>\n",
       "    </tr>\n",
       "    <tr>\n",
       "      <th>13436</th>\n",
       "      <td>28</td>\n",
       "    </tr>\n",
       "    <tr>\n",
       "      <th>13437</th>\n",
       "      <td>28</td>\n",
       "    </tr>\n",
       "    <tr>\n",
       "      <th>13438</th>\n",
       "      <td>28</td>\n",
       "    </tr>\n",
       "    <tr>\n",
       "      <th>13439</th>\n",
       "      <td>28</td>\n",
       "    </tr>\n",
       "  </tbody>\n",
       "</table>\n",
       "<p>13440 rows × 1 columns</p>\n",
       "</div>"
      ],
      "text/plain": [
       "        0\n",
       "0       1\n",
       "1       1\n",
       "2       1\n",
       "3       1\n",
       "4       1\n",
       "...    ..\n",
       "13435  28\n",
       "13436  28\n",
       "13437  28\n",
       "13438  28\n",
       "13439  28\n",
       "\n",
       "[13440 rows x 1 columns]"
      ]
     },
     "execution_count": 4,
     "metadata": {},
     "output_type": "execute_result"
    }
   ],
   "source": [
    "# Print the labels for traing set\n",
    "csvTrainLabel"
   ]
  },
  {
   "cell_type": "code",
   "execution_count": 5,
   "metadata": {},
   "outputs": [
    {
     "data": {
      "text/html": [
       "<div>\n",
       "<style scoped>\n",
       "    .dataframe tbody tr th:only-of-type {\n",
       "        vertical-align: middle;\n",
       "    }\n",
       "\n",
       "    .dataframe tbody tr th {\n",
       "        vertical-align: top;\n",
       "    }\n",
       "\n",
       "    .dataframe thead th {\n",
       "        text-align: right;\n",
       "    }\n",
       "</style>\n",
       "<table border=\"1\" class=\"dataframe\">\n",
       "  <thead>\n",
       "    <tr style=\"text-align: right;\">\n",
       "      <th></th>\n",
       "      <th>0</th>\n",
       "      <th>1</th>\n",
       "      <th>2</th>\n",
       "      <th>3</th>\n",
       "      <th>4</th>\n",
       "      <th>5</th>\n",
       "      <th>6</th>\n",
       "      <th>7</th>\n",
       "      <th>8</th>\n",
       "      <th>9</th>\n",
       "      <th>...</th>\n",
       "      <th>1014</th>\n",
       "      <th>1015</th>\n",
       "      <th>1016</th>\n",
       "      <th>1017</th>\n",
       "      <th>1018</th>\n",
       "      <th>1019</th>\n",
       "      <th>1020</th>\n",
       "      <th>1021</th>\n",
       "      <th>1022</th>\n",
       "      <th>1023</th>\n",
       "    </tr>\n",
       "  </thead>\n",
       "  <tbody>\n",
       "    <tr>\n",
       "      <th>3355</th>\n",
       "      <td>0</td>\n",
       "      <td>0</td>\n",
       "      <td>0</td>\n",
       "      <td>0</td>\n",
       "      <td>0</td>\n",
       "      <td>0</td>\n",
       "      <td>0</td>\n",
       "      <td>0</td>\n",
       "      <td>0</td>\n",
       "      <td>0</td>\n",
       "      <td>...</td>\n",
       "      <td>0</td>\n",
       "      <td>0</td>\n",
       "      <td>0</td>\n",
       "      <td>0</td>\n",
       "      <td>0</td>\n",
       "      <td>0</td>\n",
       "      <td>0</td>\n",
       "      <td>0</td>\n",
       "      <td>0</td>\n",
       "      <td>0</td>\n",
       "    </tr>\n",
       "    <tr>\n",
       "      <th>3356</th>\n",
       "      <td>0</td>\n",
       "      <td>0</td>\n",
       "      <td>0</td>\n",
       "      <td>0</td>\n",
       "      <td>0</td>\n",
       "      <td>0</td>\n",
       "      <td>0</td>\n",
       "      <td>0</td>\n",
       "      <td>0</td>\n",
       "      <td>0</td>\n",
       "      <td>...</td>\n",
       "      <td>0</td>\n",
       "      <td>0</td>\n",
       "      <td>0</td>\n",
       "      <td>0</td>\n",
       "      <td>0</td>\n",
       "      <td>0</td>\n",
       "      <td>0</td>\n",
       "      <td>0</td>\n",
       "      <td>0</td>\n",
       "      <td>0</td>\n",
       "    </tr>\n",
       "    <tr>\n",
       "      <th>3357</th>\n",
       "      <td>0</td>\n",
       "      <td>0</td>\n",
       "      <td>0</td>\n",
       "      <td>0</td>\n",
       "      <td>0</td>\n",
       "      <td>0</td>\n",
       "      <td>0</td>\n",
       "      <td>0</td>\n",
       "      <td>0</td>\n",
       "      <td>0</td>\n",
       "      <td>...</td>\n",
       "      <td>0</td>\n",
       "      <td>0</td>\n",
       "      <td>0</td>\n",
       "      <td>0</td>\n",
       "      <td>0</td>\n",
       "      <td>0</td>\n",
       "      <td>0</td>\n",
       "      <td>0</td>\n",
       "      <td>0</td>\n",
       "      <td>0</td>\n",
       "    </tr>\n",
       "    <tr>\n",
       "      <th>3358</th>\n",
       "      <td>0</td>\n",
       "      <td>0</td>\n",
       "      <td>0</td>\n",
       "      <td>0</td>\n",
       "      <td>0</td>\n",
       "      <td>0</td>\n",
       "      <td>0</td>\n",
       "      <td>0</td>\n",
       "      <td>0</td>\n",
       "      <td>0</td>\n",
       "      <td>...</td>\n",
       "      <td>0</td>\n",
       "      <td>0</td>\n",
       "      <td>0</td>\n",
       "      <td>0</td>\n",
       "      <td>0</td>\n",
       "      <td>0</td>\n",
       "      <td>0</td>\n",
       "      <td>0</td>\n",
       "      <td>0</td>\n",
       "      <td>0</td>\n",
       "    </tr>\n",
       "    <tr>\n",
       "      <th>3359</th>\n",
       "      <td>0</td>\n",
       "      <td>0</td>\n",
       "      <td>0</td>\n",
       "      <td>0</td>\n",
       "      <td>0</td>\n",
       "      <td>0</td>\n",
       "      <td>0</td>\n",
       "      <td>0</td>\n",
       "      <td>0</td>\n",
       "      <td>0</td>\n",
       "      <td>...</td>\n",
       "      <td>0</td>\n",
       "      <td>0</td>\n",
       "      <td>0</td>\n",
       "      <td>0</td>\n",
       "      <td>0</td>\n",
       "      <td>0</td>\n",
       "      <td>0</td>\n",
       "      <td>0</td>\n",
       "      <td>0</td>\n",
       "      <td>0</td>\n",
       "    </tr>\n",
       "  </tbody>\n",
       "</table>\n",
       "<p>5 rows × 1024 columns</p>\n",
       "</div>"
      ],
      "text/plain": [
       "      0     1     2     3     4     5     6     7     8     9     ...  1014  \\\n",
       "3355     0     0     0     0     0     0     0     0     0     0  ...     0   \n",
       "3356     0     0     0     0     0     0     0     0     0     0  ...     0   \n",
       "3357     0     0     0     0     0     0     0     0     0     0  ...     0   \n",
       "3358     0     0     0     0     0     0     0     0     0     0  ...     0   \n",
       "3359     0     0     0     0     0     0     0     0     0     0  ...     0   \n",
       "\n",
       "      1015  1016  1017  1018  1019  1020  1021  1022  1023  \n",
       "3355     0     0     0     0     0     0     0     0     0  \n",
       "3356     0     0     0     0     0     0     0     0     0  \n",
       "3357     0     0     0     0     0     0     0     0     0  \n",
       "3358     0     0     0     0     0     0     0     0     0  \n",
       "3359     0     0     0     0     0     0     0     0     0  \n",
       "\n",
       "[5 rows x 1024 columns]"
      ]
     },
     "execution_count": 5,
     "metadata": {},
     "output_type": "execute_result"
    }
   ],
   "source": [
    "# Print the Last five information in testing set\n",
    "csvTestImages.tail()"
   ]
  },
  {
   "cell_type": "code",
   "execution_count": 6,
   "metadata": {},
   "outputs": [
    {
     "data": {
      "text/html": [
       "<div>\n",
       "<style scoped>\n",
       "    .dataframe tbody tr th:only-of-type {\n",
       "        vertical-align: middle;\n",
       "    }\n",
       "\n",
       "    .dataframe tbody tr th {\n",
       "        vertical-align: top;\n",
       "    }\n",
       "\n",
       "    .dataframe thead th {\n",
       "        text-align: right;\n",
       "    }\n",
       "</style>\n",
       "<table border=\"1\" class=\"dataframe\">\n",
       "  <thead>\n",
       "    <tr style=\"text-align: right;\">\n",
       "      <th></th>\n",
       "      <th>0</th>\n",
       "    </tr>\n",
       "  </thead>\n",
       "  <tbody>\n",
       "    <tr>\n",
       "      <th>0</th>\n",
       "      <td>1</td>\n",
       "    </tr>\n",
       "    <tr>\n",
       "      <th>1</th>\n",
       "      <td>1</td>\n",
       "    </tr>\n",
       "    <tr>\n",
       "      <th>2</th>\n",
       "      <td>2</td>\n",
       "    </tr>\n",
       "    <tr>\n",
       "      <th>3</th>\n",
       "      <td>2</td>\n",
       "    </tr>\n",
       "    <tr>\n",
       "      <th>4</th>\n",
       "      <td>3</td>\n",
       "    </tr>\n",
       "    <tr>\n",
       "      <th>...</th>\n",
       "      <td>...</td>\n",
       "    </tr>\n",
       "    <tr>\n",
       "      <th>3355</th>\n",
       "      <td>26</td>\n",
       "    </tr>\n",
       "    <tr>\n",
       "      <th>3356</th>\n",
       "      <td>27</td>\n",
       "    </tr>\n",
       "    <tr>\n",
       "      <th>3357</th>\n",
       "      <td>27</td>\n",
       "    </tr>\n",
       "    <tr>\n",
       "      <th>3358</th>\n",
       "      <td>28</td>\n",
       "    </tr>\n",
       "    <tr>\n",
       "      <th>3359</th>\n",
       "      <td>28</td>\n",
       "    </tr>\n",
       "  </tbody>\n",
       "</table>\n",
       "<p>3360 rows × 1 columns</p>\n",
       "</div>"
      ],
      "text/plain": [
       "       0\n",
       "0      1\n",
       "1      1\n",
       "2      2\n",
       "3      2\n",
       "4      3\n",
       "...   ..\n",
       "3355  26\n",
       "3356  27\n",
       "3357  27\n",
       "3358  28\n",
       "3359  28\n",
       "\n",
       "[3360 rows x 1 columns]"
      ]
     },
     "execution_count": 6,
     "metadata": {},
     "output_type": "execute_result"
    }
   ],
   "source": [
    "# Print the labels for testing set\n",
    "csvTestLabel"
   ]
  },
  {
   "cell_type": "markdown",
   "metadata": {},
   "source": [
    "## 2-3 Having more insght and visualizing the dataset [7]\n",
    "### 2-3-1 First, Display how many samples we have"
   ]
  },
  {
   "cell_type": "code",
   "execution_count": 7,
   "metadata": {},
   "outputs": [
    {
     "name": "stdout",
     "output_type": "stream",
     "text": [
      "The below table illustrates how many rows and columns we have\n",
      "There are 13440 samples in the training set and 3360 samples in the testing set\n"
     ]
    },
    {
     "data": {
      "text/html": [
       "<div>\n",
       "<style scoped>\n",
       "    .dataframe tbody tr th:only-of-type {\n",
       "        vertical-align: middle;\n",
       "    }\n",
       "\n",
       "    .dataframe tbody tr th {\n",
       "        vertical-align: top;\n",
       "    }\n",
       "\n",
       "    .dataframe thead th {\n",
       "        text-align: right;\n",
       "    }\n",
       "</style>\n",
       "<table border=\"1\" class=\"dataframe\">\n",
       "  <thead>\n",
       "    <tr style=\"text-align: right;\">\n",
       "      <th></th>\n",
       "      <th>Rows</th>\n",
       "      <th>Columns</th>\n",
       "    </tr>\n",
       "  </thead>\n",
       "  <tbody>\n",
       "    <tr>\n",
       "      <th>Train Images</th>\n",
       "      <td>13440</td>\n",
       "      <td>1024</td>\n",
       "    </tr>\n",
       "    <tr>\n",
       "      <th>Train Labels</th>\n",
       "      <td>13440</td>\n",
       "      <td>1</td>\n",
       "    </tr>\n",
       "    <tr>\n",
       "      <th>Test Images</th>\n",
       "      <td>3360</td>\n",
       "      <td>1024</td>\n",
       "    </tr>\n",
       "    <tr>\n",
       "      <th>Test Labels</th>\n",
       "      <td>3360</td>\n",
       "      <td>1</td>\n",
       "    </tr>\n",
       "  </tbody>\n",
       "</table>\n",
       "</div>"
      ],
      "text/plain": [
       "               Rows  Columns\n",
       "Train Images  13440     1024\n",
       "Train Labels  13440        1\n",
       "Test Images    3360     1024\n",
       "Test Labels    3360        1"
      ]
     },
     "execution_count": 7,
     "metadata": {},
     "output_type": "execute_result"
    }
   ],
   "source": [
    "# We read all rows and columns for each file\n",
    "TrainRow, TrainCol = csvTrainImages.shape\n",
    "TrainLabelRow, TrainLabelCol = csvTrainLabel.shape\n",
    "TestRow, TestCol = csvTestImages.shape\n",
    "TestLabelRow, TestLabelCol = csvTestLabel.shape\n",
    "data = [[TrainRow, TrainCol], [TrainLabelRow, TrainLabelCol], [TestRow, TestCol], [TestLabelRow, TestLabelCol]]\n",
    "data = pd.DataFrame(data, columns=[\"Rows\", \"Columns\"], index =[\"Train Images\", \"Train Labels\",\"Test Images\", \"Test Labels\"])\n",
    "print(\"The below table illustrates how many rows and columns we have\")\n",
    "print(\"There are 13440 samples in the training set and 3360 samples in the testing set\")\n",
    "data"
   ]
  },
  {
   "cell_type": "markdown",
   "metadata": {},
   "source": [
    "### 2-3-2 Second, display how many unique classes we have\n",
    "It means how many characters in our dataset to be trained"
   ]
  },
  {
   "cell_type": "code",
   "execution_count": 8,
   "metadata": {},
   "outputs": [
    {
     "name": "stdout",
     "output_type": "stream",
     "text": [
      "The number of classes is:  28\n"
     ]
    }
   ],
   "source": [
    "Nclasses = len(np.unique(csvTrainLabel))\n",
    "print(\"The number of classes is: \", Nclasses)"
   ]
  },
  {
   "cell_type": "markdown",
   "metadata": {},
   "source": [
    "### 2-3-3 Third, how many samples per each class with the highest and lowest numbers\n",
    "- We have to change the dataframe to include reshape, and the way to do it, it is to use the values option.\n",
    "- iloc[:,:] is to select all rows and columns"
   ]
  },
  {
   "cell_type": "code",
   "execution_count": 9,
   "metadata": {},
   "outputs": [],
   "source": [
    "train_data = csvTrainImages.iloc[:,:].values.astype('float32') \n",
    "train_label = csvTrainLabel.iloc[:,:].values.astype('int32')-1\n",
    "test_data = csvTestImages.iloc[:,:].values.astype('float32')\n",
    "test_label = csvTestLabel.iloc[:,:].values.astype('int32')-1"
   ]
  },
  {
   "cell_type": "code",
   "execution_count": 10,
   "metadata": {},
   "outputs": [],
   "source": [
    "AHCTrainLable = to_categorical(train_label,Nclasses)\n",
    "AHCTestLable = to_categorical(test_label,Nclasses)\n",
    "\n",
    "train_label_data = pd.DataFrame(AHCTrainLable)\n",
    "test_label_data = pd.DataFrame(AHCTestLable)"
   ]
  },
  {
   "cell_type": "code",
   "execution_count": 11,
   "metadata": {},
   "outputs": [
    {
     "data": {
      "text/html": [
       "<div>\n",
       "<style scoped>\n",
       "    .dataframe tbody tr th:only-of-type {\n",
       "        vertical-align: middle;\n",
       "    }\n",
       "\n",
       "    .dataframe tbody tr th {\n",
       "        vertical-align: top;\n",
       "    }\n",
       "\n",
       "    .dataframe thead th {\n",
       "        text-align: right;\n",
       "    }\n",
       "</style>\n",
       "<table border=\"1\" class=\"dataframe\">\n",
       "  <thead>\n",
       "    <tr style=\"text-align: right;\">\n",
       "      <th></th>\n",
       "      <th>Training Data</th>\n",
       "      <th>Testing Data</th>\n",
       "    </tr>\n",
       "  </thead>\n",
       "  <tbody>\n",
       "    <tr>\n",
       "      <th>Highest number</th>\n",
       "      <td>255.0</td>\n",
       "      <td>255.0</td>\n",
       "    </tr>\n",
       "    <tr>\n",
       "      <th>Lowest number</th>\n",
       "      <td>0.0</td>\n",
       "      <td>0.0</td>\n",
       "    </tr>\n",
       "  </tbody>\n",
       "</table>\n",
       "</div>"
      ],
      "text/plain": [
       "                Training Data  Testing Data\n",
       "Highest number          255.0         255.0\n",
       "Lowest number             0.0           0.0"
      ]
     },
     "execution_count": 11,
     "metadata": {},
     "output_type": "execute_result"
    }
   ],
   "source": [
    "# Taking the mix and min numbers in each set and display them\n",
    "MaxTrainData = train_data.max()\n",
    "MinTrainData = train_data.min()\n",
    "MaxTestData = test_data.max()\n",
    "MinTestData = test_data.min()\n",
    "data = [[MaxTrainData, MaxTestData], [MinTrainData, MinTestData]]\n",
    "data = pd.DataFrame(data, columns=[\"Training Data\", \"Testing Data\"], index =[\"Highest number\", \"Lowest number\"])\n",
    "data"
   ]
  },
  {
   "cell_type": "code",
   "execution_count": 12,
   "metadata": {},
   "outputs": [
    {
     "name": "stdout",
     "output_type": "stream",
     "text": [
      "0     480\n",
      "1     480\n",
      "2     480\n",
      "3     480\n",
      "4     480\n",
      "5     480\n",
      "6     480\n",
      "7     480\n",
      "8     480\n",
      "9     480\n",
      "10    480\n",
      "11    480\n",
      "12    480\n",
      "13    480\n",
      "14    480\n",
      "15    480\n",
      "16    480\n",
      "17    480\n",
      "18    480\n",
      "19    480\n",
      "20    480\n",
      "21    480\n",
      "22    480\n",
      "23    480\n",
      "24    480\n",
      "25    480\n",
      "26    480\n",
      "27    480\n",
      "dtype: int64\n"
     ]
    }
   ],
   "source": [
    "# count how many sample in each class for the training set\n",
    "print(train_label_data[train_label_data[0]==1].count())"
   ]
  },
  {
   "cell_type": "code",
   "execution_count": 13,
   "metadata": {},
   "outputs": [
    {
     "data": {
      "image/png": "[encoded data removed]",
      "text/plain": [
       "<Figure size 1440x504 with 1 Axes>"
      ]
     },
     "metadata": {
      "needs_background": "light"
     },
     "output_type": "display_data"
    }
   ],
   "source": [
    "x = train_label_data[train_label_data[0]==1].count()\n",
    "x.plot(kind = 'bar', \n",
    "        color = ['rosybrown', 'cadetblue', 'lightcoral', 'thistle']) \n",
    "x.plot(figsize=(20,7))\n",
    "plt.xticks(rotation=30, horizontalalignment=\"center\")\n",
    "plt.title('Number of sample for each class in the training set') \n",
    "plt.show()"
   ]
  },
  {
   "cell_type": "code",
   "execution_count": 14,
   "metadata": {},
   "outputs": [
    {
     "name": "stdout",
     "output_type": "stream",
     "text": [
      "0     120\n",
      "1     120\n",
      "2     120\n",
      "3     120\n",
      "4     120\n",
      "5     120\n",
      "6     120\n",
      "7     120\n",
      "8     120\n",
      "9     120\n",
      "10    120\n",
      "11    120\n",
      "12    120\n",
      "13    120\n",
      "14    120\n",
      "15    120\n",
      "16    120\n",
      "17    120\n",
      "18    120\n",
      "19    120\n",
      "20    120\n",
      "21    120\n",
      "22    120\n",
      "23    120\n",
      "24    120\n",
      "25    120\n",
      "26    120\n",
      "27    120\n",
      "dtype: int64\n"
     ]
    }
   ],
   "source": [
    "# count how many sample in each class for the testing set\n",
    "print(test_label_data[test_label_data[0]==1].count())"
   ]
  },
  {
   "cell_type": "code",
   "execution_count": 15,
   "metadata": {},
   "outputs": [
    {
     "data": {
      "image/png": "[encoded data removed]",
      "text/plain": [
       "<Figure size 1080x720 with 1 Axes>"
      ]
     },
     "metadata": {
      "needs_background": "light"
     },
     "output_type": "display_data"
    }
   ],
   "source": [
    "x = test_label_data[test_label_data[0]==1].count()\n",
    "x.plot(kind = 'barh', \n",
    "        color = ['darkgrey', 'lightsteelblue', 'lightslategrey', 'thistle']) \n",
    "x.plot(figsize=(15,10))\n",
    "plt.xticks(rotation=30, horizontalalignment=\"center\")\n",
    "plt.title('Number of sample for each class in the testing test') \n",
    "plt.show()"
   ]
  },
  {
   "cell_type": "markdown",
   "metadata": {},
   "source": [
    "### 2-3-4 Fourth, visualize the dataset"
   ]
  },
  {
   "cell_type": "code",
   "execution_count": 16,
   "metadata": {},
   "outputs": [],
   "source": [
    "arabic_characters = ['أ', 'ب', 'ت', 'ث', 'ج', 'ح', 'خ', 'د', 'ذ',\n",
    "                    'ر', 'ز', 'س', 'ش', 'ص', 'ض', 'ط', 'ظ', 'ع',\n",
    "                    'غ', 'ف', 'ق', 'ك', 'ل', 'م', 'ن', 'هـ', 'و', 'ي']"
   ]
  },
  {
   "cell_type": "code",
   "execution_count": 17,
   "metadata": {},
   "outputs": [
    {
     "name": "stdout",
     "output_type": "stream",
     "text": [
      "Please Enter the image number - any number from 0 to 13439:55\n"
     ]
    },
    {
     "data": {
      "image/png": "[encoded data removed]",
      "text/plain": [
       "<Figure size 720x720 with 1 Axes>"
      ]
     },
     "metadata": {},
     "output_type": "display_data"
    }
   ],
   "source": [
    "# Taking the number for an image and plot the rows and columns in an individual grayscale image\n",
    "x = input('Please Enter the image number - any number from 0 to 13439:')\n",
    "img = train_data[int(x)]\n",
    "img\n",
    "fig = plt.figure(figsize = (10,10))\n",
    "ax = fig.add_subplot(111, xticks=[], yticks=[])\n",
    "img = img.reshape(32, 32)\n",
    "img = np.flip(img, 0)\n",
    "img = rotate(img, -90)\n",
    "ax.imshow(img, cmap='gray')\n",
    "width, height = img.shape\n",
    "thresh = img.max()/2.5\n",
    "for x in range(width):\n",
    "    for y in range(height):\n",
    "        ax.annotate(str(round(img[x][y],2)), xy=(y,x),\n",
    "                    verticalalignment='center',\n",
    "                    horizontalalignment='center',\n",
    "                    color='white' if img[x][y]<thresh else 'black')"
   ]
  },
  {
   "cell_type": "code",
   "execution_count": 18,
   "metadata": {},
   "outputs": [
    {
     "data": {
      "text/plain": [
       "Text(0.5, 1.0, 'و')"
      ]
     },
     "execution_count": 18,
     "metadata": {},
     "output_type": "execute_result"
    },
    {
     "data": {
      "image/png": "[encoded data removed]",
      "text/plain": [
       "<Figure size 432x288 with 1 Axes>"
      ]
     },
     "metadata": {},
     "output_type": "display_data"
    }
   ],
   "source": [
    "# print a random image from the training set\n",
    "x = random.randint(0, 13440) # Taking a random sample from 0 to 13440\n",
    "train_data = train_data.reshape([-1, 32, 32, 1]) # reshape it to display it\n",
    "plt.style.use('dark_background')\n",
    "plt.imshow(train_data[x].squeeze().T, cmap=\"GnBu\")\n",
    "plt.title(arabic_characters[train_label[x][0]])"
   ]
  },
  {
   "cell_type": "code",
   "execution_count": 19,
   "metadata": {},
   "outputs": [
    {
     "data": {
      "image/png": "[encoded data removed]",
      "text/plain": [
       "<Figure size 864x864 with 5 Axes>"
      ]
     },
     "metadata": {},
     "output_type": "display_data"
    }
   ],
   "source": [
    "# print five samples\n",
    "x = np.random.randint(0, 13440, size=25)\n",
    "plt.figure(figsize=(12,12))\n",
    "for i in range(5):\n",
    "    plt.subplot(5,5,i+1)\n",
    "    plt.xticks([])\n",
    "    plt.yticks([])\n",
    "    plt.imshow(train_data[x[i]].squeeze().T, cmap=\"GnBu\")\n",
    "    plt.title(arabic_characters[int(train_label[x[i]][0])])\n",
    "plt.show()"
   ]
  },
  {
   "cell_type": "markdown",
   "metadata": {},
   "source": [
    "### 2-3-5 Finally, checking Null Values\n",
    "This is to make sure our model will not have any difficulties during the training"
   ]
  },
  {
   "cell_type": "code",
   "execution_count": 20,
   "metadata": {},
   "outputs": [
    {
     "name": "stdout",
     "output_type": "stream",
     "text": [
      "<class 'pandas.core.frame.DataFrame'>\n",
      "RangeIndex: 13440 entries, 0 to 13439\n",
      "Columns: 1024 entries, 0 to 1023\n",
      "dtypes: int64(1024)\n",
      "memory usage: 105.0 MB\n",
      "         NO# of null values in the training set\n",
      "Feature                                        \n",
      "1023                                          0\n",
      "1022                                          0\n",
      "349                                           0\n",
      "348                                           0\n",
      "347                                           0\n",
      "...                                         ...\n",
      "677                                           0\n",
      "676                                           0\n",
      "675                                           0\n",
      "674                                           0\n",
      "0                                             0\n",
      "\n",
      "[1024 rows x 1 columns]\n"
     ]
    }
   ],
   "source": [
    "# Printing the dataframe info that shows all the features along with their data types.\n",
    "csvTrainImages.info()\n",
    "# To Show number of null values in each column\n",
    "TrainArabicDatasetNulls = pd.DataFrame(csvTrainImages.isnull().sum().sort_values(ascending=False))\n",
    "TrainArabicDatasetNulls.columns = ['NO# of null values in the training set']\n",
    "TrainArabicDatasetNulls.index.name = 'Feature'\n",
    "print(TrainArabicDatasetNulls)"
   ]
  },
  {
   "cell_type": "code",
   "execution_count": 21,
   "metadata": {},
   "outputs": [
    {
     "name": "stdout",
     "output_type": "stream",
     "text": [
      "<class 'pandas.core.frame.DataFrame'>\n",
      "RangeIndex: 3360 entries, 0 to 3359\n",
      "Columns: 1024 entries, 0 to 1023\n",
      "dtypes: int64(1024)\n",
      "memory usage: 26.3 MB\n",
      "         NO# of null values in the testing set\n",
      "Feature                                       \n",
      "1023                                         0\n",
      "1022                                         0\n",
      "349                                          0\n",
      "348                                          0\n",
      "347                                          0\n",
      "...                                        ...\n",
      "677                                          0\n",
      "676                                          0\n",
      "675                                          0\n",
      "674                                          0\n",
      "0                                            0\n",
      "\n",
      "[1024 rows x 1 columns]\n"
     ]
    }
   ],
   "source": [
    "# Displaying the datatype about the features.\n",
    "csvTestImages.info()\n",
    "# To Show number of null values in each column\n",
    "TestArabicDatasetNulls = pd.DataFrame(csvTestImages.isnull().sum().sort_values(ascending=False))\n",
    "TestArabicDatasetNulls.columns = ['NO# of null values in the testing set']\n",
    "TestArabicDatasetNulls.index.name = 'Feature'\n",
    "print(TestArabicDatasetNulls)"
   ]
  },
  {
   "cell_type": "markdown",
   "metadata": {},
   "source": [
    "## 2-4 Data Analytics\n"
   ]
  },
  {
   "cell_type": "code",
   "execution_count": 22,
   "metadata": {},
   "outputs": [],
   "source": [
    "# split the dataset into train and test data\n",
    "train_images, test_images,train_labels, test_labels = train_test_split(csvTrainImages, csvTrainLabel, test_size=0.20, random_state=0, stratify=train_label)"
   ]
  },
  {
   "cell_type": "code",
   "execution_count": 23,
   "metadata": {},
   "outputs": [],
   "source": [
    "# a function to print the model evaluation\n",
    "def print_evaluation(model, name):\n",
    "    print('Accuracy of', name ,'classifier on training set: {:.2f}'\n",
    "     .format(model.score(train_images, train_labels)))\n",
    "    print('Accuracy of', name ,'classifier on test set: {:.2f}'\n",
    "     .format(model.score(test_images, test_labels)))\n",
    "    predictions = model.predict(test_images)\n",
    "    accuracy = model.score(test_images, test_labels)\n",
    "    print(classification_report(test_labels, predictions))"
   ]
  },
  {
   "cell_type": "markdown",
   "metadata": {},
   "source": [
    "### 2-4-1 Naive Bayes"
   ]
  },
  {
   "cell_type": "code",
   "execution_count": 24,
   "metadata": {},
   "outputs": [],
   "source": [
    "# Creating a Naive Bayes object for classification and train the model\n",
    "NB = GaussianNB().fit(train_images, train_labels.values.ravel())"
   ]
  },
  {
   "cell_type": "markdown",
   "metadata": {},
   "source": [
    "### Model Evaluation"
   ]
  },
  {
   "cell_type": "code",
   "execution_count": 25,
   "metadata": {},
   "outputs": [
    {
     "name": "stdout",
     "output_type": "stream",
     "text": [
      "Accuracy of Naive Bayes classifier on training set: 0.19\n",
      "Accuracy of Naive Bayes classifier on test set: 0.13\n",
      "              precision    recall  f1-score   support\n",
      "\n",
      "           1       0.32      0.67      0.43        96\n",
      "           2       0.17      0.38      0.23        96\n",
      "           3       0.07      0.24      0.11        96\n",
      "           4       0.16      0.05      0.08        96\n",
      "           5       0.14      0.05      0.08        96\n",
      "           6       0.24      0.04      0.07        96\n",
      "           7       0.13      0.02      0.04        96\n",
      "           8       0.09      0.94      0.16        96\n",
      "           9       0.07      0.09      0.08        96\n",
      "          10       0.11      0.23      0.14        96\n",
      "          11       0.27      0.07      0.11        96\n",
      "          12       0.11      0.05      0.07        96\n",
      "          13       0.29      0.04      0.07        96\n",
      "          14       0.16      0.10      0.13        96\n",
      "          15       0.36      0.04      0.07        96\n",
      "          16       0.22      0.04      0.07        96\n",
      "          17       0.19      0.05      0.08        96\n",
      "          18       0.00      0.00      0.00        96\n",
      "          19       0.39      0.12      0.19        96\n",
      "          20       0.14      0.05      0.08        96\n",
      "          21       0.00      0.00      0.00        96\n",
      "          22       0.22      0.06      0.10        96\n",
      "          23       0.25      0.09      0.14        96\n",
      "          24       0.14      0.11      0.12        96\n",
      "          25       0.11      0.03      0.05        96\n",
      "          26       0.29      0.04      0.07        96\n",
      "          27       0.00      0.00      0.00        96\n",
      "          28       0.36      0.04      0.07        96\n",
      "\n",
      "    accuracy                           0.13      2688\n",
      "   macro avg       0.18      0.13      0.10      2688\n",
      "weighted avg       0.18      0.13      0.10      2688\n",
      "\n"
     ]
    }
   ],
   "source": [
    "print_evaluation(NB, \"Naive Bayes\")"
   ]
  },
  {
   "cell_type": "markdown",
   "metadata": {},
   "source": [
    "### 2-4-2 Support Vector Machines(SVM)"
   ]
  },
  {
   "cell_type": "code",
   "execution_count": 26,
   "metadata": {},
   "outputs": [],
   "source": [
    "# Creating a Support Vector Machines object for classification and train the model\n",
    "svc = SVC(kernel='linear').fit(train_images, train_labels.values.ravel())"
   ]
  },
  {
   "cell_type": "markdown",
   "metadata": {},
   "source": [
    "### Model Evaluation"
   ]
  },
  {
   "cell_type": "code",
   "execution_count": 27,
   "metadata": {},
   "outputs": [
    {
     "name": "stdout",
     "output_type": "stream",
     "text": [
      "Accuracy of SVM classifier on training set: 1.00\n",
      "Accuracy of SVM classifier on test set: 0.41\n",
      "              precision    recall  f1-score   support\n",
      "\n",
      "           1       0.77      0.90      0.83        96\n",
      "           2       0.53      0.62      0.57        96\n",
      "           3       0.28      0.33      0.30        96\n",
      "           4       0.41      0.44      0.42        96\n",
      "           5       0.29      0.42      0.34        96\n",
      "           6       0.28      0.42      0.34        96\n",
      "           7       0.29      0.25      0.27        96\n",
      "           8       0.40      0.51      0.45        96\n",
      "           9       0.50      0.47      0.48        96\n",
      "          10       0.46      0.53      0.50        96\n",
      "          11       0.49      0.46      0.47        96\n",
      "          12       0.43      0.48      0.46        96\n",
      "          13       0.43      0.40      0.41        96\n",
      "          14       0.41      0.43      0.42        96\n",
      "          15       0.43      0.38      0.40        96\n",
      "          16       0.24      0.27      0.25        96\n",
      "          17       0.36      0.29      0.32        96\n",
      "          18       0.28      0.26      0.27        96\n",
      "          19       0.41      0.28      0.33        96\n",
      "          20       0.32      0.35      0.34        96\n",
      "          21       0.25      0.24      0.25        96\n",
      "          22       0.38      0.34      0.36        96\n",
      "          23       0.68      0.53      0.60        96\n",
      "          24       0.55      0.49      0.52        96\n",
      "          25       0.35      0.30      0.32        96\n",
      "          26       0.44      0.39      0.41        96\n",
      "          27       0.40      0.30      0.34        96\n",
      "          28       0.45      0.31      0.37        96\n",
      "\n",
      "    accuracy                           0.41      2688\n",
      "   macro avg       0.41      0.41      0.41      2688\n",
      "weighted avg       0.41      0.41      0.41      2688\n",
      "\n"
     ]
    }
   ],
   "source": [
    "print_evaluation(svc, \"SVM\")"
   ]
  },
  {
   "cell_type": "markdown",
   "metadata": {},
   "source": [
    "### 2-4-3 Decision Tree"
   ]
  },
  {
   "cell_type": "code",
   "execution_count": 28,
   "metadata": {},
   "outputs": [],
   "source": [
    "# Creating a decision tree object for classification and train the model\n",
    "dt = DecisionTreeClassifier().fit(train_images, train_labels.values.ravel())"
   ]
  },
  {
   "cell_type": "markdown",
   "metadata": {},
   "source": [
    "### Model Evaluation"
   ]
  },
  {
   "cell_type": "code",
   "execution_count": 29,
   "metadata": {},
   "outputs": [
    {
     "name": "stdout",
     "output_type": "stream",
     "text": [
      "Accuracy of Decision Tree classifier on training set: 1.00\n",
      "Accuracy of Decision Tree classifier on test set: 0.33\n",
      "              precision    recall  f1-score   support\n",
      "\n",
      "           1       0.67      0.71      0.69        96\n",
      "           2       0.37      0.44      0.40        96\n",
      "           3       0.31      0.38      0.34        96\n",
      "           4       0.32      0.28      0.30        96\n",
      "           5       0.36      0.30      0.33        96\n",
      "           6       0.32      0.38      0.34        96\n",
      "           7       0.22      0.23      0.23        96\n",
      "           8       0.29      0.35      0.32        96\n",
      "           9       0.26      0.38      0.31        96\n",
      "          10       0.52      0.52      0.52        96\n",
      "          11       0.39      0.44      0.41        96\n",
      "          12       0.33      0.32      0.32        96\n",
      "          13       0.28      0.25      0.26        96\n",
      "          14       0.30      0.28      0.29        96\n",
      "          15       0.21      0.18      0.19        96\n",
      "          16       0.27      0.26      0.27        96\n",
      "          17       0.25      0.22      0.23        96\n",
      "          18       0.21      0.19      0.20        96\n",
      "          19       0.19      0.14      0.16        96\n",
      "          20       0.21      0.19      0.20        96\n",
      "          21       0.20      0.16      0.17        96\n",
      "          22       0.45      0.40      0.42        96\n",
      "          23       0.58      0.55      0.56        96\n",
      "          24       0.50      0.61      0.55        96\n",
      "          25       0.25      0.24      0.24        96\n",
      "          26       0.36      0.32      0.34        96\n",
      "          27       0.36      0.46      0.40        96\n",
      "          28       0.20      0.19      0.20        96\n",
      "\n",
      "    accuracy                           0.33      2688\n",
      "   macro avg       0.33      0.33      0.33      2688\n",
      "weighted avg       0.33      0.33      0.33      2688\n",
      "\n"
     ]
    }
   ],
   "source": [
    "print_evaluation(dt, \"Decision Tree\")"
   ]
  },
  {
   "cell_type": "markdown",
   "metadata": {},
   "source": [
    "Train the decision tree model with 7 as its depth and 8 leafs"
   ]
  },
  {
   "cell_type": "code",
   "execution_count": 30,
   "metadata": {},
   "outputs": [
    {
     "name": "stdout",
     "output_type": "stream",
     "text": [
      "max_depth = 7, min_samples_leaf = 8, Accuracy of Decision Tree classifier on training set: 0.36\n",
      "max_depth = 7, min_samples_leaf = 8, Accuracy of Decision Tree classifier on test set: 0.26\n"
     ]
    }
   ],
   "source": [
    "dt1 = DecisionTreeClassifier(criterion = 'entropy',max_depth = 10, min_samples_leaf = 28, random_state = 0)\n",
    "dt1.fit(train_images, train_labels)\n",
    "print('max_depth = {:.0f}, min_samples_leaf = {:.0f}, Accuracy of Decision Tree classifier on training set: {:.2f}'\n",
    "             .format(7, 8, dt1.score(train_images, train_labels)))\n",
    "print('max_depth = {:.0f}, min_samples_leaf = {:.0f}, Accuracy of Decision Tree classifier on test set: {:.2f}'\n",
    "             .format(7, 8, dt1.score(test_images, test_labels)))"
   ]
  },
  {
   "cell_type": "markdown",
   "metadata": {},
   "source": [
    "### 2-4-4 Random Forest Classifier"
   ]
  },
  {
   "cell_type": "code",
   "execution_count": 31,
   "metadata": {},
   "outputs": [],
   "source": [
    "# Creating a random forest object for the classification and train the model\n",
    "rfc = RandomForestClassifier().fit(train_images, train_labels.values.ravel())"
   ]
  },
  {
   "cell_type": "markdown",
   "metadata": {},
   "source": [
    "### Model Evaluation"
   ]
  },
  {
   "cell_type": "code",
   "execution_count": 32,
   "metadata": {},
   "outputs": [
    {
     "name": "stdout",
     "output_type": "stream",
     "text": [
      "Accuracy of Random Forest classifier on training set: 1.00\n",
      "Accuracy of Random Forest classifier on test set: 0.64\n",
      "              precision    recall  f1-score   support\n",
      "\n",
      "           1       0.82      0.94      0.87        96\n",
      "           2       0.68      0.78      0.73        96\n",
      "           3       0.50      0.52      0.51        96\n",
      "           4       0.49      0.52      0.51        96\n",
      "           5       0.69      0.65      0.67        96\n",
      "           6       0.55      0.67      0.60        96\n",
      "           7       0.62      0.42      0.50        96\n",
      "           8       0.56      0.75      0.64        96\n",
      "           9       0.56      0.66      0.61        96\n",
      "          10       0.58      0.76      0.66        96\n",
      "          11       0.66      0.59      0.63        96\n",
      "          12       0.71      0.78      0.75        96\n",
      "          13       0.82      0.57      0.67        96\n",
      "          14       0.57      0.71      0.63        96\n",
      "          15       0.70      0.51      0.59        96\n",
      "          16       0.55      0.50      0.52        96\n",
      "          17       0.58      0.45      0.51        96\n",
      "          18       0.56      0.50      0.53        96\n",
      "          19       0.52      0.50      0.51        96\n",
      "          20       0.59      0.53      0.56        96\n",
      "          21       0.60      0.52      0.56        96\n",
      "          22       0.77      0.69      0.73        96\n",
      "          23       0.78      0.84      0.81        96\n",
      "          24       0.67      0.81      0.73        96\n",
      "          25       0.52      0.55      0.54        96\n",
      "          26       0.69      0.75      0.72        96\n",
      "          27       0.70      0.74      0.72        96\n",
      "          28       0.93      0.57      0.71        96\n",
      "\n",
      "    accuracy                           0.64      2688\n",
      "   macro avg       0.64      0.64      0.63      2688\n",
      "weighted avg       0.64      0.64      0.63      2688\n",
      "\n"
     ]
    }
   ],
   "source": [
    "print_evaluation(rfc, \"Random Forest\")"
   ]
  },
  {
   "cell_type": "markdown",
   "metadata": {},
   "source": [
    "### 2-4-5 Convolutional Neural Networkk (CNN)"
   ]
  },
  {
   "cell_type": "markdown",
   "metadata": {},
   "source": [
    "### Normalization\n",
    "Each pixel value has number from 0 to 255. This value range is too high and it will be difficult for CNN model to learn. The best approach is normalizing the data. In this case, as the pixel value is in the known range it sufficient to scale the pixel values in range [0,1] by simply dividing the array by 255.\n",
    "\n",
    "- Black would be 0 and white would be 255\n",
    "- We would also change the labels to be int32\n",
    "\n",
    "It will be useful when we are categorizing them"
   ]
  },
  {
   "cell_type": "code",
   "execution_count": 33,
   "metadata": {},
   "outputs": [],
   "source": [
    "# Scale the pixel values in range [0,1] and reshape input images to 32x32x1\n",
    "# this is to create an input for neural network\n",
    "train_data = train_data/255\n",
    "test_data = test_data/255\n",
    "train_data= train_data.reshape([-1, 32, 32, 1])\n",
    "test_data = test_data.reshape([-1, 32, 32, 1])"
   ]
  },
  {
   "cell_type": "markdown",
   "metadata": {},
   "source": [
    "### Splitting the data into training and testing.\n",
    "The testing is for validation purposes."
   ]
  },
  {
   "cell_type": "code",
   "execution_count": 34,
   "metadata": {},
   "outputs": [],
   "source": [
    "#  It takes %80 of the data for training\n",
    "X_train, x_test, Y_train, y_test = train_test_split(train_data, train_label,\n",
    "                                                    test_size=0.20, random_state=0)"
   ]
  },
  {
   "cell_type": "markdown",
   "metadata": {},
   "source": [
    "### Building the model ussing Keras\n",
    "\n",
    "Three Convolutional Blocks\n",
    "- Each block consists of conv2D layers with relu as an activation layer. Then a MaxPool2D layer and Finally a Dropout layer.\n",
    "- We have the Flatten Layer before Dense Layer and Output layer.\n",
    "- MaxPool2D layer is used to reduce the size of the image. Pool size (2,2) means reducing the image from (32,32) to (16,16). Reducing the features.\n",
    "- Dropout layer drops the few activation nodes while training, which acts as reqularization.\n",
    "- Output layer has 28 nodes with softmax activation since we have multi-classification with using cross-entropy.\n",
    "\n",
    "- Filter: the number of filters. ( helps in extracting different features)\n",
    "- Kernel_size: Number specifying both the height and wedth of the convolution windows. \n",
    "\n"
   ]
  },
  {
   "cell_type": "code",
   "execution_count": 35,
   "metadata": {},
   "outputs": [
    {
     "name": "stdout",
     "output_type": "stream",
     "text": [
      "WARNING:tensorflow:From C:\\Users\\khali\\anaconda3\\lib\\site-packages\\keras\\backend\\tensorflow_backend.py:74: The name tf.get_default_graph is deprecated. Please use tf.compat.v1.get_default_graph instead.\n",
      "\n",
      "WARNING:tensorflow:From C:\\Users\\khali\\anaconda3\\lib\\site-packages\\keras\\backend\\tensorflow_backend.py:517: The name tf.placeholder is deprecated. Please use tf.compat.v1.placeholder instead.\n",
      "\n",
      "WARNING:tensorflow:From C:\\Users\\khali\\anaconda3\\lib\\site-packages\\keras\\backend\\tensorflow_backend.py:4138: The name tf.random_uniform is deprecated. Please use tf.random.uniform instead.\n",
      "\n",
      "WARNING:tensorflow:From C:\\Users\\khali\\anaconda3\\lib\\site-packages\\keras\\backend\\tensorflow_backend.py:3976: The name tf.nn.max_pool is deprecated. Please use tf.nn.max_pool2d instead.\n",
      "\n",
      "WARNING:tensorflow:From C:\\Users\\khali\\anaconda3\\lib\\site-packages\\keras\\backend\\tensorflow_backend.py:133: The name tf.placeholder_with_default is deprecated. Please use tf.compat.v1.placeholder_with_default instead.\n",
      "\n",
      "WARNING:tensorflow:From C:\\Users\\khali\\anaconda3\\lib\\site-packages\\keras\\backend\\tensorflow_backend.py:3445: calling dropout (from tensorflow.python.ops.nn_ops) with keep_prob is deprecated and will be removed in a future version.\n",
      "Instructions for updating:\n",
      "Please use `rate` instead of `keep_prob`. Rate should be set to `rate = 1 - keep_prob`.\n"
     ]
    }
   ],
   "source": [
    "# Instantiate an empty sequential model\n",
    "CNN_Model = Sequential()\n",
    "\n",
    "# C1 Convolutional Layer. This is the first and the input layer that has 32 features maps.\n",
    "CNN_Model.add(Conv2D(32, (5,5),activation ='relu', input_shape = (32,32,1)))\n",
    "# This layer is to downsample the input to enable the model to make assumptions about the features and reduce the overfitting. \n",
    "CNN_Model.add(MaxPool2D(pool_size=(2,2)))\n",
    "# Dropout is a regularization technique for reducing overfitting in neural networks by preventing complex co-adaptations on training data.\n",
    "CNN_Model.add(Dropout(0.25))\n",
    "\n",
    "# this block has 64 filters and (3,3) as its kernel size\n",
    "CNN_Model.add(Conv2D(64, (3,3),activation ='relu'))\n",
    "CNN_Model.add(MaxPool2D(pool_size=(2,2)))\n",
    "CNN_Model.add(Dropout(0.25))\n",
    "\n",
    "CNN_Model.add(Conv2D(128, (3,3),activation ='relu'))\n",
    "CNN_Model.add(MaxPool2D(pool_size=(2,2)))\n",
    "CNN_Model.add(Dropout(0.25))\n",
    "\n",
    "# Flatten is to convert the multidimensional data into a 1D feature vector to be used by the next layer\n",
    "CNN_Model.add(Flatten())\n",
    "CNN_Model.add(Dense(units = 256, activation = \"relu\"))\n",
    "CNN_Model.add(Dropout(0.5))\n",
    "# Output layer with softmax activation since we have multiclass classification issue\n",
    "CNN_Model.add(Dense(Nclasses, activation = \"softmax\"))"
   ]
  },
  {
   "cell_type": "code",
   "execution_count": 36,
   "metadata": {},
   "outputs": [
    {
     "name": "stdout",
     "output_type": "stream",
     "text": [
      "_________________________________________________________________\n",
      "Layer (type)                 Output Shape              Param #   \n",
      "=================================================================\n",
      "conv2d_1 (Conv2D)            (None, 28, 28, 32)        832       \n",
      "_________________________________________________________________\n",
      "max_pooling2d_1 (MaxPooling2 (None, 14, 14, 32)        0         \n",
      "_________________________________________________________________\n",
      "dropout_1 (Dropout)          (None, 14, 14, 32)        0         \n",
      "_________________________________________________________________\n",
      "conv2d_2 (Conv2D)            (None, 12, 12, 64)        18496     \n",
      "_________________________________________________________________\n",
      "max_pooling2d_2 (MaxPooling2 (None, 6, 6, 64)          0         \n",
      "_________________________________________________________________\n",
      "dropout_2 (Dropout)          (None, 6, 6, 64)          0         \n",
      "_________________________________________________________________\n",
      "conv2d_3 (Conv2D)            (None, 4, 4, 128)         73856     \n",
      "_________________________________________________________________\n",
      "max_pooling2d_3 (MaxPooling2 (None, 2, 2, 128)         0         \n",
      "_________________________________________________________________\n",
      "dropout_3 (Dropout)          (None, 2, 2, 128)         0         \n",
      "_________________________________________________________________\n",
      "flatten_1 (Flatten)          (None, 512)               0         \n",
      "_________________________________________________________________\n",
      "dense_1 (Dense)              (None, 256)               131328    \n",
      "_________________________________________________________________\n",
      "dropout_4 (Dropout)          (None, 256)               0         \n",
      "_________________________________________________________________\n",
      "dense_2 (Dense)              (None, 28)                7196      \n",
      "=================================================================\n",
      "Total params: 231,708\n",
      "Trainable params: 231,708\n",
      "Non-trainable params: 0\n",
      "_________________________________________________________________\n"
     ]
    }
   ],
   "source": [
    "# print the model summary\n",
    "CNN_Model.summary()"
   ]
  },
  {
   "cell_type": "code",
   "execution_count": 37,
   "metadata": {},
   "outputs": [
    {
     "name": "stdout",
     "output_type": "stream",
     "text": [
      "WARNING:tensorflow:From C:\\Users\\khali\\anaconda3\\lib\\site-packages\\keras\\optimizers.py:790: The name tf.train.Optimizer is deprecated. Please use tf.compat.v1.train.Optimizer instead.\n",
      "\n",
      "WARNING:tensorflow:From C:\\Users\\khali\\anaconda3\\lib\\site-packages\\keras\\backend\\tensorflow_backend.py:3341: The name tf.log is deprecated. Please use tf.math.log instead.\n",
      "\n"
     ]
    }
   ],
   "source": [
    "# We used sparse_categorical_crossentropy since there is 28 clases \n",
    "CNN_Model.compile(loss='sparse_categorical_crossentropy', optimizer='adam', metrics=['accuracy'])"
   ]
  },
  {
   "cell_type": "markdown",
   "metadata": {},
   "source": [
    "### Early stopping\n",
    "\n",
    "Sometimes, if we do not have the right epochs for training, it might lead to overfitting or underfitting. Thus, early stopping allows us to halt the training once the model performance stops improving."
   ]
  },
  {
   "cell_type": "code",
   "execution_count": 38,
   "metadata": {},
   "outputs": [],
   "source": [
    "# simple early stopping\n",
    "es = EarlyStopping(monitor='val_loss', mode='min', verbose=1, patience=15)"
   ]
  },
  {
   "cell_type": "code",
   "execution_count": 39,
   "metadata": {},
   "outputs": [
    {
     "name": "stdout",
     "output_type": "stream",
     "text": [
      "WARNING:tensorflow:From C:\\Users\\khali\\AppData\\Roaming\\Python\\Python37\\site-packages\\tensorflow\\python\\ops\\math_grad.py:1250: add_dispatch_support.<locals>.wrapper (from tensorflow.python.ops.array_ops) is deprecated and will be removed in a future version.\n",
      "Instructions for updating:\n",
      "Use tf.where in 2.0, which has the same broadcast rule as np.where\n",
      "Train on 10752 samples, validate on 2688 samples\n",
      "Epoch 1/150\n",
      "10752/10752 [==============================] - 6s 555us/step - loss: 2.4707 - acc: 0.2412 - val_loss: 1.3826 - val_acc: 0.5283\n",
      "Epoch 2/150\n",
      "10752/10752 [==============================] - 6s 518us/step - loss: 1.2535 - acc: 0.5670 - val_loss: 0.7362 - val_acc: 0.7697\n",
      "Epoch 3/150\n",
      "10752/10752 [==============================] - 5s 470us/step - loss: 0.8872 - acc: 0.6925 - val_loss: 0.5248 - val_acc: 0.8251\n",
      "Epoch 4/150\n",
      "10752/10752 [==============================] - 5s 464us/step - loss: 0.7028 - acc: 0.7591 - val_loss: 0.4095 - val_acc: 0.8783\n",
      "Epoch 5/150\n",
      "10752/10752 [==============================] - 5s 458us/step - loss: 0.5811 - acc: 0.7959 - val_loss: 0.3562 - val_acc: 0.8876\n",
      "Epoch 6/150\n",
      "10752/10752 [==============================] - 5s 466us/step - loss: 0.4977 - acc: 0.8305 - val_loss: 0.2909 - val_acc: 0.9055\n",
      "Epoch 7/150\n",
      "10752/10752 [==============================] - 5s 479us/step - loss: 0.4414 - acc: 0.8492 - val_loss: 0.2545 - val_acc: 0.9200\n",
      "Epoch 8/150\n",
      "10752/10752 [==============================] - 5s 477us/step - loss: 0.3990 - acc: 0.8682 - val_loss: 0.2480 - val_acc: 0.9234\n",
      "Epoch 9/150\n",
      "10752/10752 [==============================] - 5s 468us/step - loss: 0.3816 - acc: 0.8731 - val_loss: 0.2096 - val_acc: 0.9368\n",
      "Epoch 10/150\n",
      "10752/10752 [==============================] - 5s 459us/step - loss: 0.3216 - acc: 0.8933 - val_loss: 0.1990 - val_acc: 0.9353\n",
      "Epoch 11/150\n",
      "10752/10752 [==============================] - 5s 473us/step - loss: 0.3144 - acc: 0.8966 - val_loss: 0.1833 - val_acc: 0.9442\n",
      "Epoch 12/150\n",
      "10752/10752 [==============================] - 6s 516us/step - loss: 0.2869 - acc: 0.9033 - val_loss: 0.1845 - val_acc: 0.9438\n",
      "Epoch 13/150\n",
      "10752/10752 [==============================] - 5s 459us/step - loss: 0.2785 - acc: 0.9026 - val_loss: 0.1685 - val_acc: 0.9475\n",
      "Epoch 14/150\n",
      "10752/10752 [==============================] - 5s 483us/step - loss: 0.2551 - acc: 0.9146 - val_loss: 0.1575 - val_acc: 0.9524\n",
      "Epoch 15/150\n",
      "10752/10752 [==============================] - 5s 465us/step - loss: 0.2402 - acc: 0.9219 - val_loss: 0.1716 - val_acc: 0.9505\n",
      "Epoch 16/150\n",
      "10752/10752 [==============================] - 5s 454us/step - loss: 0.2274 - acc: 0.9222 - val_loss: 0.1616 - val_acc: 0.9513\n",
      "Epoch 17/150\n",
      "10752/10752 [==============================] - 5s 461us/step - loss: 0.2165 - acc: 0.9266 - val_loss: 0.1458 - val_acc: 0.9546\n",
      "Epoch 18/150\n",
      "10752/10752 [==============================] - 5s 453us/step - loss: 0.1937 - acc: 0.9356 - val_loss: 0.1400 - val_acc: 0.9576\n",
      "Epoch 19/150\n",
      "10752/10752 [==============================] - 5s 462us/step - loss: 0.2089 - acc: 0.9309 - val_loss: 0.1466 - val_acc: 0.9520\n",
      "Epoch 20/150\n",
      "10752/10752 [==============================] - 5s 458us/step - loss: 0.1847 - acc: 0.9368 - val_loss: 0.1666 - val_acc: 0.9531\n",
      "Epoch 21/150\n",
      "10752/10752 [==============================] - 5s 475us/step - loss: 0.1879 - acc: 0.9386 - val_loss: 0.1308 - val_acc: 0.9594\n",
      "Epoch 22/150\n",
      "10752/10752 [==============================] - 5s 471us/step - loss: 0.1786 - acc: 0.9395 - val_loss: 0.1338 - val_acc: 0.9587\n",
      "Epoch 23/150\n",
      "10752/10752 [==============================] - 5s 475us/step - loss: 0.1684 - acc: 0.9421 - val_loss: 0.1348 - val_acc: 0.9565\n",
      "Epoch 24/150\n",
      "10752/10752 [==============================] - 5s 463us/step - loss: 0.1617 - acc: 0.9452 - val_loss: 0.1333 - val_acc: 0.9598\n",
      "Epoch 25/150\n",
      "10752/10752 [==============================] - 5s 474us/step - loss: 0.1588 - acc: 0.9469 - val_loss: 0.1367 - val_acc: 0.9598\n",
      "Epoch 26/150\n",
      "10752/10752 [==============================] - 5s 471us/step - loss: 0.1526 - acc: 0.9511 - val_loss: 0.1368 - val_acc: 0.9594\n",
      "Epoch 27/150\n",
      "10752/10752 [==============================] - 5s 474us/step - loss: 0.1548 - acc: 0.9465 - val_loss: 0.1410 - val_acc: 0.9546\n",
      "Epoch 28/150\n",
      "10752/10752 [==============================] - 5s 463us/step - loss: 0.1433 - acc: 0.9541 - val_loss: 0.1370 - val_acc: 0.9587\n",
      "Epoch 29/150\n",
      "10752/10752 [==============================] - 5s 464us/step - loss: 0.1392 - acc: 0.9547 - val_loss: 0.1218 - val_acc: 0.9643\n",
      "Epoch 30/150\n",
      "10752/10752 [==============================] - 5s 471us/step - loss: 0.1323 - acc: 0.9555 - val_loss: 0.1272 - val_acc: 0.9684\n",
      "Epoch 31/150\n",
      "10752/10752 [==============================] - 5s 462us/step - loss: 0.1379 - acc: 0.9545 - val_loss: 0.1221 - val_acc: 0.9624\n",
      "Epoch 32/150\n",
      "10752/10752 [==============================] - 5s 452us/step - loss: 0.1329 - acc: 0.9543 - val_loss: 0.1253 - val_acc: 0.9624\n",
      "Epoch 33/150\n",
      "10752/10752 [==============================] - 5s 461us/step - loss: 0.1270 - acc: 0.9565 - val_loss: 0.1314 - val_acc: 0.9647\n",
      "Epoch 34/150\n",
      "10752/10752 [==============================] - 5s 461us/step - loss: 0.1242 - acc: 0.9554 - val_loss: 0.1266 - val_acc: 0.9661\n",
      "Epoch 35/150\n",
      "10752/10752 [==============================] - 5s 459us/step - loss: 0.1186 - acc: 0.9618 - val_loss: 0.1325 - val_acc: 0.9658\n",
      "Epoch 36/150\n",
      "10752/10752 [==============================] - 5s 459us/step - loss: 0.1259 - acc: 0.9576 - val_loss: 0.1210 - val_acc: 0.9654\n",
      "Epoch 37/150\n",
      "10752/10752 [==============================] - 5s 458us/step - loss: 0.1258 - acc: 0.9575 - val_loss: 0.1232 - val_acc: 0.9621\n",
      "Epoch 38/150\n",
      "10752/10752 [==============================] - 5s 468us/step - loss: 0.1265 - acc: 0.9553 - val_loss: 0.1252 - val_acc: 0.9669\n",
      "Epoch 39/150\n",
      "10752/10752 [==============================] - 5s 462us/step - loss: 0.1195 - acc: 0.9618 - val_loss: 0.1210 - val_acc: 0.9635\n",
      "Epoch 40/150\n",
      "10752/10752 [==============================] - 5s 473us/step - loss: 0.1253 - acc: 0.9579 - val_loss: 0.1334 - val_acc: 0.9621\n",
      "Epoch 41/150\n",
      "10752/10752 [==============================] - 5s 452us/step - loss: 0.1181 - acc: 0.9606 - val_loss: 0.1285 - val_acc: 0.9639\n",
      "Epoch 42/150\n",
      "10752/10752 [==============================] - 5s 463us/step - loss: 0.1178 - acc: 0.9599 - val_loss: 0.1215 - val_acc: 0.9628\n",
      "Epoch 43/150\n",
      "10752/10752 [==============================] - 5s 461us/step - loss: 0.1146 - acc: 0.9620 - val_loss: 0.1270 - val_acc: 0.9624\n",
      "Epoch 44/150\n",
      "10752/10752 [==============================] - 5s 467us/step - loss: 0.1099 - acc: 0.9637 - val_loss: 0.1113 - val_acc: 0.9702\n",
      "Epoch 45/150\n",
      "10752/10752 [==============================] - 5s 470us/step - loss: 0.1144 - acc: 0.9615 - val_loss: 0.1252 - val_acc: 0.9639\n",
      "Epoch 46/150\n",
      "10752/10752 [==============================] - 5s 467us/step - loss: 0.1043 - acc: 0.9661 - val_loss: 0.1166 - val_acc: 0.9717\n",
      "Epoch 47/150\n",
      "10752/10752 [==============================] - 5s 466us/step - loss: 0.1000 - acc: 0.9666 - val_loss: 0.1126 - val_acc: 0.9691\n",
      "Epoch 48/150\n",
      "10752/10752 [==============================] - 5s 460us/step - loss: 0.0983 - acc: 0.9688 - val_loss: 0.1239 - val_acc: 0.9661\n",
      "Epoch 49/150\n",
      "10752/10752 [==============================] - 5s 460us/step - loss: 0.1131 - acc: 0.9615 - val_loss: 0.1143 - val_acc: 0.9673\n",
      "Epoch 50/150\n",
      "10752/10752 [==============================] - 5s 456us/step - loss: 0.0974 - acc: 0.9712 - val_loss: 0.1080 - val_acc: 0.9673\n",
      "Epoch 51/150\n",
      "10752/10752 [==============================] - 5s 455us/step - loss: 0.0973 - acc: 0.9674 - val_loss: 0.1230 - val_acc: 0.9658\n",
      "Epoch 52/150\n",
      "10752/10752 [==============================] - 5s 463us/step - loss: 0.0999 - acc: 0.9682 - val_loss: 0.1273 - val_acc: 0.9665\n",
      "Epoch 53/150\n",
      "10752/10752 [==============================] - 5s 466us/step - loss: 0.1029 - acc: 0.9663 - val_loss: 0.1084 - val_acc: 0.9706\n",
      "Epoch 54/150\n",
      "10752/10752 [==============================] - 5s 477us/step - loss: 0.0900 - acc: 0.9710 - val_loss: 0.1155 - val_acc: 0.9702\n",
      "Epoch 55/150\n",
      "10752/10752 [==============================] - 5s 470us/step - loss: 0.0969 - acc: 0.9672 - val_loss: 0.1250 - val_acc: 0.9688\n",
      "Epoch 56/150\n",
      "10752/10752 [==============================] - 5s 470us/step - loss: 0.0909 - acc: 0.9701 - val_loss: 0.1102 - val_acc: 0.9673\n"
     ]
    },
    {
     "name": "stdout",
     "output_type": "stream",
     "text": [
      "Epoch 57/150\n",
      "10752/10752 [==============================] - 5s 468us/step - loss: 0.0944 - acc: 0.9699 - val_loss: 0.1152 - val_acc: 0.9688\n",
      "Epoch 58/150\n",
      "10752/10752 [==============================] - 5s 461us/step - loss: 0.1004 - acc: 0.9676 - val_loss: 0.1184 - val_acc: 0.9673\n",
      "Epoch 59/150\n",
      "10752/10752 [==============================] - 5s 460us/step - loss: 0.0927 - acc: 0.9676 - val_loss: 0.1167 - val_acc: 0.9725\n",
      "Epoch 60/150\n",
      "10752/10752 [==============================] - 5s 471us/step - loss: 0.0874 - acc: 0.9708 - val_loss: 0.1156 - val_acc: 0.9717\n",
      "Epoch 61/150\n",
      "10752/10752 [==============================] - 5s 464us/step - loss: 0.0879 - acc: 0.9715 - val_loss: 0.1219 - val_acc: 0.9688\n",
      "Epoch 62/150\n",
      "10752/10752 [==============================] - 5s 461us/step - loss: 0.0892 - acc: 0.9717 - val_loss: 0.1267 - val_acc: 0.9680\n",
      "Epoch 63/150\n",
      "10752/10752 [==============================] - 5s 460us/step - loss: 0.0870 - acc: 0.9721 - val_loss: 0.1218 - val_acc: 0.9688\n",
      "Epoch 64/150\n",
      "10752/10752 [==============================] - 5s 461us/step - loss: 0.0914 - acc: 0.9693 - val_loss: 0.1256 - val_acc: 0.9650\n",
      "Epoch 65/150\n",
      "10752/10752 [==============================] - 5s 454us/step - loss: 0.0803 - acc: 0.9733 - val_loss: 0.1306 - val_acc: 0.9676\n",
      "Epoch 00065: early stopping\n"
     ]
    }
   ],
   "source": [
    "Model = CNN_Model.fit(X_train, Y_train, epochs=150, verbose=1, shuffle=True,\n",
    "                                     initial_epoch=0, callbacks=[es], validation_data=(x_test, y_test))"
   ]
  },
  {
   "cell_type": "markdown",
   "metadata": {},
   "source": [
    "### Model Evaluation\n"
   ]
  },
  {
   "cell_type": "code",
   "execution_count": 40,
   "metadata": {},
   "outputs": [
    {
     "name": "stdout",
     "output_type": "stream",
     "text": [
      "3360/3360 [==============================] - 0s 122us/step\n",
      "Evaluation result on Test Data : Loss = 0.1377755729623286, accuracy = 0.9675595238095238\n"
     ]
    }
   ],
   "source": [
    "[test_loss, test_acc] = CNN_Model.evaluate(test_data, test_label)\n",
    "print(\"Evaluation result on Test Data : Loss = {}, accuracy = {}\".format(test_loss, test_acc))"
   ]
  },
  {
   "cell_type": "code",
   "execution_count": 41,
   "metadata": {},
   "outputs": [],
   "source": [
    "# pred = CNN_Model.predict(test_data)"
   ]
  },
  {
   "cell_type": "code",
   "execution_count": 42,
   "metadata": {},
   "outputs": [
    {
     "name": "stdout",
     "output_type": "stream",
     "text": [
      "Loss Score: 0.13\n",
      "Accuracy: 96.76%\n"
     ]
    }
   ],
   "source": [
    "\n",
    "#The evaluation satge to get the final accuraccy result of our model\n",
    "score,acc = CNN_Model.evaluate(x_test,y_test,verbose=2)\n",
    "print(\"Loss Score: %.2f\" % (score))\n",
    "print(\"Accuracy: %.2f%%\" % (acc*100))\n",
    "# print(CNN_Model.metrics_names)"
   ]
  },
  {
   "cell_type": "code",
   "execution_count": 43,
   "metadata": {},
   "outputs": [
    {
     "data": {
      "image/png": "[encoded data removed]",
      "text/plain": [
       "<Figure size 432x288 with 1 Axes>"
      ]
     },
     "metadata": {},
     "output_type": "display_data"
    }
   ],
   "source": [
    "# plot the loss and val_loss\n",
    "plt.plot(Model.history['loss'])\n",
    "plt.plot(Model.history['val_loss'])\n",
    "plt.title('model loss')\n",
    "plt.ylabel('loss')\n",
    "plt.xlabel('epoch')\n",
    "plt.legend(['loss', 'val_loss'], loc='upper left')\n",
    "plt.show()"
   ]
  },
  {
   "cell_type": "code",
   "execution_count": 44,
   "metadata": {},
   "outputs": [
    {
     "data": {
      "image/png": "[encoded data removed]",
      "text/plain": [
       "<Figure size 432x288 with 1 Axes>"
      ]
     },
     "metadata": {},
     "output_type": "display_data"
    }
   ],
   "source": [
    "# plot the acc and val_acc\n",
    "plt.plot(Model.history['acc'])\n",
    "plt.plot(Model.history['val_acc'])\n",
    "plt.title('model acc')\n",
    "plt.ylabel('acc')\n",
    "plt.xlabel('epoch')\n",
    "plt.legend(['acc', 'val_acc'], loc='upper left')\n",
    "plt.show()"
   ]
  },
  {
   "cell_type": "code",
   "execution_count": 45,
   "metadata": {},
   "outputs": [
    {
     "data": {
      "text/plain": [
       "<matplotlib.legend.Legend at 0x26a9e2b0248>"
      ]
     },
     "execution_count": 45,
     "metadata": {},
     "output_type": "execute_result"
    },
    {
     "data": {
      "image/png": "[encoded data removed]",
      "text/plain": [
       "<Figure size 432x288 with 1 Axes>"
      ]
     },
     "metadata": {},
     "output_type": "display_data"
    }
   ],
   "source": [
    "# plot the loss/val_loss and accuracy/val_accuracy for both training data and validation data. \n",
    "plt.figure()\n",
    "plt.plot( Model.history[\"val_loss\"], label=\"validation loss\")\n",
    "plt.plot( Model.history[\"val_acc\"], label=\"validation accuracy\")\n",
    "plt.plot( Model.history[\"loss\"], label=\"training Loss\")\n",
    "plt.plot(Model.history[\"acc\"], label=\"training accuracy\")\n",
    "plt.title(\"the loss and accuracy for both training data and validation data\")\n",
    "plt.xlabel(\"Epoch #\")\n",
    "plt.ylabel(\"Loss/Accuracy\")\n",
    "plt.legend(loc=\"best\")"
   ]
  },
  {
   "cell_type": "code",
   "execution_count": 46,
   "metadata": {
    "scrolled": false
   },
   "outputs": [
    {
     "name": "stdout",
     "output_type": "stream",
     "text": [
      "3360/3360 [==============================] - 0s 91us/step\n",
      "              precision    recall  f1-score   support\n",
      "\n",
      "           0       0.99      0.99      0.99       120\n",
      "           1       0.99      0.98      0.99       120\n",
      "           2       0.90      0.98      0.94       120\n",
      "           3       0.99      0.89      0.94       120\n",
      "           4       0.99      0.96      0.97       120\n",
      "           5       0.94      0.99      0.96       120\n",
      "           6       0.98      0.93      0.95       120\n",
      "           7       0.97      0.97      0.97       120\n",
      "           8       0.95      0.93      0.94       120\n",
      "           9       0.94      0.99      0.96       120\n",
      "          10       0.97      0.91      0.94       120\n",
      "          11       0.98      0.99      0.99       120\n",
      "          12       0.99      0.99      0.99       120\n",
      "          13       0.94      0.99      0.97       120\n",
      "          14       1.00      0.94      0.97       120\n",
      "          15       0.96      0.97      0.97       120\n",
      "          16       0.96      0.96      0.96       120\n",
      "          17       0.98      0.97      0.98       120\n",
      "          18       0.97      0.99      0.98       120\n",
      "          19       0.93      0.98      0.96       120\n",
      "          20       0.99      0.93      0.96       120\n",
      "          21       0.99      0.99      0.99       120\n",
      "          22       0.97      0.99      0.98       120\n",
      "          23       0.98      0.99      0.98       120\n",
      "          24       0.95      0.93      0.94       120\n",
      "          25       0.97      0.97      0.97       120\n",
      "          26       0.96      0.97      0.96       120\n",
      "          27       0.98      0.99      0.99       120\n",
      "\n",
      "    accuracy                           0.97      3360\n",
      "   macro avg       0.97      0.97      0.97      3360\n",
      "weighted avg       0.97      0.97      0.97      3360\n",
      "\n"
     ]
    }
   ],
   "source": [
    "y_pred = CNN_Model.predict(test_data, batch_size=100, verbose=1)\n",
    "y_pred_bool = np.argmax(y_pred, axis=1)\n",
    "\n",
    "print(classification_report(test_label, y_pred_bool))"
   ]
  },
  {
   "cell_type": "markdown",
   "metadata": {},
   "source": [
    "### Testing the model\n",
    "\n",
    "We test our model by using a sample from the testing data."
   ]
  },
  {
   "cell_type": "code",
   "execution_count": 47,
   "metadata": {},
   "outputs": [
    {
     "name": "stdout",
     "output_type": "stream",
     "text": [
      "Please Enter the image number - any number from 0 to 3359:55\n"
     ]
    },
    {
     "data": {
      "image/png": "[encoded data removed]",
      "text/plain": [
       "<Figure size 432x288 with 1 Axes>"
      ]
     },
     "metadata": {},
     "output_type": "display_data"
    }
   ],
   "source": [
    "# Taking the number for an image and plot the rows and columns in an individual grayscale image\n",
    "x = input('Please Enter the image number - any number from 0 to 3359:')\n",
    "testimage = test_data[[int(x)]]\n",
    "\n",
    "\n",
    "predict_classe = CNN_Model.predict_classes(testimage)\n",
    "image_array = testimage.reshape((32, 32))\n",
    "# The original data is reflected, so the following two lines will flip it; then rotate it for better visulaztion\n",
    "image_array = np.flip(image_array, 0)\n",
    "image_array = rotate(image_array, -90)\n",
    "# print(predict_classe)\n",
    "plt.imshow(image_array, cmap = 'gray')\n",
    "\n",
    "# plt.imshow(testimage.reshape((32, 32)), cmap = 'gray')\n",
    "# plt.title(\"This is: \" + str(predict_classe[0]))\n",
    "plt.title(\"This is the letter: \" + arabic_characters[predict_classe[0]])\n",
    "plt.show()"
   ]
  },
  {
   "cell_type": "markdown",
   "metadata": {},
   "source": [
    "# 3- Remarks and Conclusions"
   ]
  },
  {
   "cell_type": "markdown",
   "metadata": {},
   "source": [
    "The AHC is a handwritten Arabic character dataset with 16800 samples having 13400 samples for the training set and 3360 samples for the testing set. It is balanced since each class has the same number of samples. In this work, we have implemented five supervised machine learning algorithms because the dataset has labels. We chose to apply Naïve Bayes, SVM, Decision Tree, Random Forest, and CNN because they are widespread. We found out the following:\n",
    "\n",
    "- Naïve Bayes does not take a long time to train the model. \n",
    "- Naïve Bayes, SVM, Decision Tree, and Random forest performed poorly, but among them, Random forest was the best as it achieves an accuracy of 64%.\n",
    "- CNN achieved the best score with 97%. We have built our model with three convolutional blocks and used some known layers to **enhance the model**, like reducing the features' resolution, so it performed better against noise. Also, we used hyperparameters that fit with our dataset type.\n",
    "\n",
    "To conclude, CNN was the appropriate and precise model for this kind of dataset because of many features. It has better performance in classified this kind of dataset. In contrast, the other algorithms might need to use dimensionality reduction, such as Principal Component Analysis(PCA), for overcoming feature redundancy in the dataset to enhance the model accuracy.\n",
    "\n",
    "### for future\n",
    "\n",
    "This model will detect only one character. But, what if we have two or more characters at once in an image like the plate number, which has numbers and characters?  If we have a dataset as a text, we could use **Natural Language Processing (NLP)**  techniques such as tokenization, stemming or lemmatization, POS. Then we will create a knowledge graph, which gives us an insight. However, as an image, we might use a state-of-the-art Mask-RCNN, which is used for localization and classification."
   ]
  },
  {
   "cell_type": "markdown",
   "metadata": {},
   "source": [
    "# References\n",
    "\n",
    "[1] L. Deng, \"The MNIST Database of Handwritten Digit Images for Machine Learning Research [Best of the Web],\" in IEEE Signal Processing Magazine, vol. 29, no. 6, pp. 141-142, Nov. 2012, doi: 10.1109/MSP.2012.2211477.\n",
    "\n",
    "[2] Srishti Sawla, \"Introduction to Naive Bayes for Classification\", Jun 9,2018, https://medium.com/@srishtisawla/introduction-to-naive-bayes-for-classification-baefefb43a2d\n",
    "\n",
    "[3] Renu Khandelwal, \"Support Vector Machines\", November 21, 2018, https://medium.com/datadriveninvestor/support-vector-machines-ae0ff2375479\n",
    "\n",
    "[4] Yang S, \"Decision Tree in Machine Learning\", May 17, 2020, https://medium.com/datadriveninvestor/how-decision-tree-model-works-ce681cae10a6\n",
    "\n",
    "[5] Krishni, \"A Beginners Guide to Random Forest Regression\", November 27,2018, https://medium.com/datadriveninvestor/random-forest-regression-9871bc9a25eb\n",
    "\n",
    "[6] Renu Khandelwal, \"Convolutional Neural Network(CNN) Simplified\", October 18, 2018, https://medium.com/datadriveninvestor/convolutional-neural-network-cnn-simplified-ecafd4ee52c5\n",
    "\n",
    "[7] Pararawendy Indarjo, \"Exploratory Data Analysis (EDA) Visualization Using Pandas\", March 23, 2020, https://towardsdatascience.com/exploratory-data-analysis-eda-visualization-using-pandas-ca5a04271607"
   ]
  }
 ],
 "metadata": {
  "kernelspec": {
   "display_name": "Python 3",
   "language": "python",
   "name": "python3"
  },
  "language_info": {
   "codemirror_mode": {
    "name": "ipython",
    "version": 3
   },
   "file_extension": ".py",
   "mimetype": "text/x-python",
   "name": "python",
   "nbconvert_exporter": "python",
   "pygments_lexer": "ipython3",
   "version": "3.7.6"
  }
 },
 "nbformat": 4,
 "nbformat_minor": 4
}
